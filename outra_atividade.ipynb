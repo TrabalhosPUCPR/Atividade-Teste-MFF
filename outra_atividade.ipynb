{
  "nbformat": 4,
  "nbformat_minor": 0,
  "metadata": {
    "colab": {
      "name": "Untitled2.ipynb",
      "provenance": [],
      "collapsed_sections": []
    },
    "kernelspec": {
      "name": "python3",
      "display_name": "Python 3"
    },
    "language_info": {
      "name": "python"
    }
  },
  "cells": [
    {
      "cell_type": "code",
      "metadata": {
        "colab": {
          "base_uri": "https://localhost:8080/",
          "height": 38
        },
        "id": "BxyueuYY44YY",
        "outputId": "5d515ed0-daa0-4eb5-a15f-6541cb8e035b"
      },
      "source": [
        "import sympy as sp\n",
        "\n",
        "x, y, z = sp.symbols(\"x y z\")\n",
        "\n",
        "func = x**3 + x**2 * y**2 + x**2 + x*y + y**3 + y**2\n",
        "\n",
        "func = sp.diff(func, x)\n",
        "\n",
        "display(func)"
      ],
      "execution_count": null,
      "outputs": [
        {
          "output_type": "display_data",
          "data": {
            "text/latex": "$\\displaystyle 3 x^{2} + 2 x y^{2} + 2 x + y$",
            "text/plain": [
              "3*x**2 + 2*x*y**2 + 2*x + y"
            ]
          },
          "metadata": {
            "tags": []
          }
        }
      ]
    },
    {
      "cell_type": "code",
      "metadata": {
        "colab": {
          "base_uri": "https://localhost:8080/",
          "height": 38
        },
        "id": "mBE1esu_6VBv",
        "outputId": "637deaae-9dd4-46b9-bd88-ddb8ab7b2fc5"
      },
      "source": [
        "func = x**2 * sp.sin(y**3) + x * sp.exp(3*z) - sp.cos(z**2)\n",
        "\n",
        "func = sp.diff(func, y)\n",
        "\n",
        "display(func)"
      ],
      "execution_count": null,
      "outputs": [
        {
          "output_type": "display_data",
          "data": {
            "text/latex": "$\\displaystyle 3 x^{2} y^{2} \\cos{\\left(y^{3} \\right)}$",
            "text/plain": [
              "3*x**2*y**2*cos(y**3)"
            ]
          },
          "metadata": {
            "tags": []
          }
        }
      ]
    },
    {
      "cell_type": "code",
      "metadata": {
        "colab": {
          "base_uri": "https://localhost:8080/",
          "height": 54
        },
        "id": "0wVPrnwN8SXF",
        "outputId": "e2498737-553d-4609-99d7-b4d60fa91411"
      },
      "source": [
        "func = sp.log(x**2 + y**2)\n",
        "\n",
        "func = sp.diff(func, y)\n",
        "\n",
        "display(func)"
      ],
      "execution_count": null,
      "outputs": [
        {
          "output_type": "display_data",
          "data": {
            "text/latex": "$\\displaystyle \\frac{2 y}{x^{2} + y^{2}}$",
            "text/plain": [
              "2*y/(x**2 + y**2)"
            ]
          },
          "metadata": {
            "tags": []
          }
        }
      ]
    },
    {
      "cell_type": "code",
      "metadata": {
        "colab": {
          "base_uri": "https://localhost:8080/",
          "height": 42
        },
        "id": "r2Ji6EYf_mLk",
        "outputId": "b6888b73-91eb-4bf4-946f-0e3d19872be1"
      },
      "source": [
        "func = sp.exp(sp.sin(x**3 * y**2 * z))+ x**2 + x * y**2 * z**3 - y**3 + z - 7 \n",
        "\n",
        "func = sp.diff(func, z)\n",
        "\n",
        "display(func)"
      ],
      "execution_count": null,
      "outputs": [
        {
          "output_type": "display_data",
          "data": {
            "text/latex": "$\\displaystyle x^{3} y^{2} e^{\\sin{\\left(x^{3} y^{2} z \\right)}} \\cos{\\left(x^{3} y^{2} z \\right)} + 3 x y^{2} z^{2} + 1$",
            "text/plain": [
              "x**3*y**2*exp(sin(x**3*y**2*z))*cos(x**3*y**2*z) + 3*x*y**2*z**2 + 1"
            ]
          },
          "metadata": {
            "tags": []
          }
        }
      ]
    },
    {
      "cell_type": "code",
      "metadata": {
        "colab": {
          "base_uri": "https://localhost:8080/",
          "height": 38
        },
        "id": "gselVRUeANHg",
        "outputId": "26987e6e-2fc5-48df-dba5-ccd1a9846933"
      },
      "source": [
        "func = x * sp.exp(-3*y)+sp.sin(2*x-5*y)\n",
        "\n",
        "func = sp.diff(func, x)\n",
        "\n",
        "display(func)"
      ],
      "execution_count": null,
      "outputs": [
        {
          "output_type": "display_data",
          "data": {
            "text/latex": "$\\displaystyle 2 \\cos{\\left(2 x - 5 y \\right)} + e^{- 3 y}$",
            "text/plain": [
              "2*cos(2*x - 5*y) + exp(-3*y)"
            ]
          },
          "metadata": {
            "tags": []
          }
        }
      ]
    }
  ]
}